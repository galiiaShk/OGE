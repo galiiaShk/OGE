{
 "cells": [
  {
   "cell_type": "code",
   "execution_count": 2,
   "id": "7aefb74c",
   "metadata": {},
   "outputs": [
    {
     "name": "stdout",
     "output_type": "stream",
     "text": [
      "Collecting pygame\n",
      "  Downloading pygame-2.5.2-cp38-cp38-win_amd64.whl.metadata (13 kB)\n",
      "Downloading pygame-2.5.2-cp38-cp38-win_amd64.whl (10.8 MB)\n",
      "   ---------------------------------------- 0.0/10.8 MB ? eta -:--:--\n",
      "   - -------------------------------------- 0.3/10.8 MB 6.3 MB/s eta 0:00:02\n",
      "   --- ------------------------------------ 1.0/10.8 MB 6.9 MB/s eta 0:00:02\n",
      "   ---- ----------------------------------- 1.3/10.8 MB 5.5 MB/s eta 0:00:02\n",
      "   ------ --------------------------------- 1.7/10.8 MB 5.2 MB/s eta 0:00:02\n",
      "   -------- ------------------------------- 2.2/10.8 MB 5.2 MB/s eta 0:00:02\n",
      "   --------- ------------------------------ 2.5/10.8 MB 4.9 MB/s eta 0:00:02\n",
      "   ----------- ---------------------------- 3.1/10.8 MB 5.2 MB/s eta 0:00:02\n",
      "   ------------- -------------------------- 3.6/10.8 MB 5.1 MB/s eta 0:00:02\n",
      "   -------------- ------------------------- 3.8/10.8 MB 5.0 MB/s eta 0:00:02\n",
      "   --------------- ------------------------ 4.2/10.8 MB 5.0 MB/s eta 0:00:02\n",
      "   ----------------- ---------------------- 4.6/10.8 MB 5.0 MB/s eta 0:00:02\n",
      "   ------------------ --------------------- 5.1/10.8 MB 5.1 MB/s eta 0:00:02\n",
      "   --------------------- ------------------ 5.7/10.8 MB 5.4 MB/s eta 0:00:01\n",
      "   ---------------------- ----------------- 6.2/10.8 MB 5.5 MB/s eta 0:00:01\n",
      "   ------------------------ --------------- 6.7/10.8 MB 5.5 MB/s eta 0:00:01\n",
      "   -------------------------- ------------- 7.0/10.8 MB 5.5 MB/s eta 0:00:01\n",
      "   --------------------------- ------------ 7.5/10.8 MB 5.6 MB/s eta 0:00:01\n",
      "   ----------------------------- ---------- 7.8/10.8 MB 5.6 MB/s eta 0:00:01\n",
      "   ------------------------------- -------- 8.5/10.8 MB 5.8 MB/s eta 0:00:01\n",
      "   --------------------------------- ------ 8.9/10.8 MB 5.8 MB/s eta 0:00:01\n",
      "   ----------------------------------- ---- 9.7/10.8 MB 5.9 MB/s eta 0:00:01\n",
      "   -------------------------------------- - 10.4/10.8 MB 6.1 MB/s eta 0:00:01\n",
      "   ---------------------------------------  10.7/10.8 MB 6.2 MB/s eta 0:00:01\n",
      "   ---------------------------------------  10.8/10.8 MB 6.0 MB/s eta 0:00:01\n",
      "   ---------------------------------------  10.8/10.8 MB 6.0 MB/s eta 0:00:01\n",
      "   ---------------------------------------- 10.8/10.8 MB 5.4 MB/s eta 0:00:00\n",
      "Installing collected packages: pygame\n",
      "Successfully installed pygame-2.5.2\n"
     ]
    }
   ],
   "source": [
    "!pip install pygame"
   ]
  },
  {
   "cell_type": "code",
   "execution_count": 17,
   "id": "c6637fce",
   "metadata": {},
   "outputs": [],
   "source": [
    "import pygame\n",
    "\n",
    "pygame.init()\n",
    "\n",
    "def play_note(chord_name):\n",
    "    chord_map = {\n",
    "        'Am':'Am',\n",
    "        'Bb':'Bb',\n",
    "        'Bdim':'Bdim',\n",
    "        'C':'C',\n",
    "        'Dm':'Dm',\n",
    "        'Em':'Em',\n",
    "        'F':'F',\n",
    "        'G':'G',\n",
    "    }\n",
    "    \n",
    "    if chord_name not in chord_map:\n",
    "        print(f'Chord {chord_name} not found.')\n",
    "        return\n",
    "    \n",
    "    chord_notes = chord_map[chord_name]\n",
    "    filename = '../OGE/chords/'+str(chord_notes)+'.wav'\n",
    "    pygame.mixer.Sound(filename).play()"
   ]
  },
  {
   "cell_type": "code",
   "execution_count": 19,
   "id": "78477cef",
   "metadata": {},
   "outputs": [],
   "source": [
    "play_note('Bb')\n",
    "play_note('Am')"
   ]
  }
 ],
 "metadata": {
  "kernelspec": {
   "display_name": "Python 3 (ipykernel)",
   "language": "python",
   "name": "python3"
  },
  "language_info": {
   "codemirror_mode": {
    "name": "ipython",
    "version": 3
   },
   "file_extension": ".py",
   "mimetype": "text/x-python",
   "name": "python",
   "nbconvert_exporter": "python",
   "pygments_lexer": "ipython3",
   "version": "3.8.18"
  }
 },
 "nbformat": 4,
 "nbformat_minor": 5
}
