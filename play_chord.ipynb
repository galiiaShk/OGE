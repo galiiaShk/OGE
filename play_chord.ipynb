{
 "cells": [
  {
   "cell_type": "code",
   "execution_count": 2,
   "id": "7aefb74c",
   "metadata": {},
   "outputs": [
    {
     "name": "stdout",
     "output_type": "stream",
     "text": [
      "Collecting pygame\n",
      "  Using cached pygame-2.5.2-cp38-cp38-win_amd64.whl.metadata (13 kB)\n",
      "Using cached pygame-2.5.2-cp38-cp38-win_amd64.whl (10.8 MB)\n",
      "Installing collected packages: pygame\n",
      "Successfully installed pygame-2.5.2\n"
     ]
    }
   ],
   "source": [
    "!pip install pygame"
   ]
  },
  {
   "cell_type": "code",
   "execution_count": 25,
   "id": "c6637fce",
   "metadata": {},
   "outputs": [],
   "source": [
    "import pygame\n",
    "import random\n",
    "\n",
    "pygame.init()\n",
    "\n",
    "def play_chord(chord_name):\n",
    "\n",
    "    chord_map = {\n",
    "        'Minor1': ['Am', 'Dm'],\n",
    "        'Minor1': ['Am', 'Dm'],\n",
    "        'MajorToMoll1': ['Em'],\n",
    "        'MajorToMoll2': ['Em'],\n",
    "        'FullBarre1': ['G', 'C', 'F', 'Bb'],\n",
    "    }    \n",
    "    chord_map_old = {\n",
    "        'Am':'Am',\n",
    "        'Bb':'Bb',\n",
    "        'Bdim':'Bdim',\n",
    "        'C':'C',\n",
    "        'Dm':'Dm',\n",
    "        'Em':'Em',\n",
    "        'F':'F',\n",
    "        'G':'G',\n",
    "    }\n",
    "    \n",
    "    if chord_name not in chord_map:\n",
    "        print(f'Chord {chord_name} not found.')\n",
    "        return\n",
    "    \n",
    "    possible_chords = chord_map[chord_name]\n",
    "    selected_chord = random.choice(possible_chords)\n",
    "    filename = '../OGE/chords/'+str(selected_chord)+'.wav'\n",
    "    pygame.mixer.Sound(filename).play()"
   ]
  },
  {
   "cell_type": "code",
   "execution_count": 26,
   "id": "78477cef",
   "metadata": {},
   "outputs": [],
   "source": [
    "play_chord('FullBarre1')"
   ]
  },
  {
   "cell_type": "code",
   "execution_count": null,
   "id": "bf1db283",
   "metadata": {},
   "outputs": [],
   "source": []
  }
 ],
 "metadata": {
  "kernelspec": {
   "display_name": "Python 3 (ipykernel)",
   "language": "python",
   "name": "python3"
  },
  "language_info": {
   "codemirror_mode": {
    "name": "ipython",
    "version": 3
   },
   "file_extension": ".py",
   "mimetype": "text/x-python",
   "name": "python",
   "nbconvert_exporter": "python",
   "pygments_lexer": "ipython3",
   "version": "3.8.18"
  }
 },
 "nbformat": 4,
 "nbformat_minor": 5
}
