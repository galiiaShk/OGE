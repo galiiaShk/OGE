{
 "cells": [
  {
   "cell_type": "code",
   "execution_count": null,
   "id": "33de3270",
   "metadata": {
    "scrolled": true
   },
   "outputs": [],
   "source": [
    "pip install opencv-python\n"
   ]
  },
  {
   "cell_type": "code",
   "execution_count": null,
   "id": "006eceeb",
   "metadata": {},
   "outputs": [],
   "source": [
    "pip install mediapipe"
   ]
  },
  {
   "cell_type": "code",
   "execution_count": null,
   "id": "8f1a8db4",
   "metadata": {},
   "outputs": [],
   "source": [
    "pip install --user numpy --upgrade"
   ]
  },
  {
   "cell_type": "code",
   "execution_count": null,
   "id": "dcba23f7",
   "metadata": {},
   "outputs": [],
   "source": [
    "import numpy as np\n",
    "import cv2\n",
    "import mediapipe as mp\n",
    "import time\n",
    "from numpy import linalg\n",
    "from mediapipe.tasks import python\n",
    "from mediapipe.tasks.python import vision"
   ]
  },
  {
   "cell_type": "code",
   "execution_count": null,
   "id": "c31f9c8c",
   "metadata": {},
   "outputs": [],
   "source": [
    "def are_finger_stretched(point1, point2, point3):\n",
    "    outcome = 0\n",
    "         #\n",
    "    distance1 = np.linalg.norm((point2 - point1), ord=2)\n",
    "    distance2 = np.linalg.norm((point3 - point1), ord=2)\n",
    "    if distance2 > distance1:\n",
    "        outcome = 1\n",
    "    \n",
    "    print(outcome, '\\n')\n",
    "    return outcome"
   ]
  },
  {
   "cell_type": "code",
   "execution_count": null,
   "id": "247ca378",
   "metadata": {},
   "outputs": [],
   "source": [
    "def detect_gesture(result):\n",
    "    if (result[0] == 1) and (result[1] == 0) and (result[2] == 0) and (result[3] == 0) and (result[4] == 0):\n",
    "        gesture = \"good\"\n",
    "    elif (result[0] == 1) and (result[1] == 1)and (result[2] == 0) and (result[3] == 0) and (result[4] == 0):\n",
    "        gesture = \"full barre\"\n",
    "    elif (result[0] == 0) and (result[1] == 1)and (result[2] == 0) and (result[3] == 0) and (result[4] == 0):\n",
    "        gesture = \"one\"\n",
    "    elif (result[0] == 0) and (result[1] == 0)and (result[2] == 1) and (result[3] == 0) and (result[4] == 0):\n",
    "        gesture = \"VERY BAD\"\n",
    "    elif (result[0] == 0) and (result[1] == 1)and (result[2] == 1) and (result[3] == 0) and (result[4] == 0):\n",
    "        gesture = \"two\"\n",
    "    elif (result[0] == 1) and (result[1] == 1)and (result[2] == 1) and (result[3] == 0) and (result[4] == 0):\n",
    "        gesture = \"3 finger picking\"\n",
    "    elif (result[0] == 0) and (result[1] == 1)and (result[2] == 1) and (result[3] == 1) and (result[4] == 0):\n",
    "        gesture = \"three\"\n",
    "    elif (result[0] == 0) and (result[1] == 1)and (result[2] == 1) and (result[3] == 1) and (result[4] == 1):\n",
    "        gesture = \"four\"\n",
    "    elif (result[0] == 1) and (result[1] == 1)and (result[2] == 1) and (result[3] == 1) and (result[4] == 1):\n",
    "        gesture = \"five\"\n",
    "    elif (result[0] == 1) and (result[1] == 0)and (result[2] == 0) and (result[3] == 0) and (result[4] == 1):\n",
    "        gesture = \"Shaka\"\n",
    "    elif (result[0] == 0) and (result[1] == 0)and (result[2] == 1) and (result[3] == 1) and (result[4] == 1):\n",
    "        gesture = \"OK or plectrum\"\n",
    "    elif(result[0] == 0) and (result[1] == 0) and (result[2] == 0) and (result[3] == 0) and (result[4] == 0):\n",
    "        gesture = \"closed\"\n",
    "    else:\n",
    "        gesture = \"unknown/not detected\"\n",
    "    \n",
    "    return gesture"
   ]
  },
  {
   "cell_type": "code",
   "execution_count": null,
   "id": "25884c91",
   "metadata": {},
   "outputs": [],
   "source": [
    "cap = cv2.VideoCapture(0)\n",
    "\n",
    "hands = mp.solutions.hands.Hands(static_image_mode=False,\n",
    "                         max_num_hands=2,\n",
    "                         min_tracking_confidence=0.5,\n",
    "                         min_detection_confidence=0.5)\n",
    "\n",
    "mpDraw = mp.solutions.drawing_utils\n",
    "\n",
    "previousTime = 0\n",
    "currentTime = 0\n",
    "\n",
    "# Array for 5 fingers as figure\n",
    "figure = [0 for element in range(5)]\n",
    "\n",
    "# Array for 0-20 trackpoints and 2 hands\n",
    "landmark = np.empty((21, 2))\n",
    "\n",
    "while True:\n",
    "    _, img = cap.read()\n",
    "    result = hands.process(img)\n",
    "    #print(result)\n",
    "    \n",
    "    if result.multi_hand_landmarks:\n",
    "        for handsnumber, lms in enumerate(result.multi_hand_landmarks):\n",
    "            mpDraw.draw_landmarks(img, lms, mp.solutions.hands.HAND_CONNECTIONS)\n",
    "        \n",
    "            for id, lm in enumerate(lms.landmark):\n",
    "        #for id, lm in enumerate(result.multi_hand_landmarks[0].landmark): ONLY FOR ONE HAND WITHOUT SECOND for LOOP\n",
    "\n",
    "                h, w, _ = img.shape\n",
    "                cx = int(lm.x * w) \n",
    "                cy = int(lm.y * h)\n",
    "                cv2.circle(img, (cx, cy), 3, (128, 128, 128))\n",
    "                \n",
    "                landmark_ = [cx, cy]\n",
    "                landmark[id,:] = landmark_\n",
    "                #print(id)\n",
    "                #print(lm)\n",
    "            \n",
    "            #Marks the top of fingers with different colors and thickness\n",
    "                if id == 4:\n",
    "                    cv2.circle(img, (cx, cy), 6, (0, 0, 0), cv2.FILLED)\n",
    "                if id == 8:\n",
    "                    cv2.circle(img, (cx, cy), 12, (255, 0, 0), cv2.FILLED)\n",
    "                if id == 12:\n",
    "                    cv2.circle(img, (cx, cy), 12, (0, 255, 0), cv2.FILLED)\n",
    "                if id == 16:\n",
    "                    cv2.circle(img, (cx, cy), 12, (0, 0, 255), cv2.FILLED)\n",
    "                if id == 20:\n",
    "                    cv2.circle(img, (cx, cy), 12, (255, 0, 255), cv2.FILLED)\n",
    "                    \n",
    "            for i in range(5):\n",
    "                if i == 0:\n",
    "                    #pinky\n",
    "                    figure_ = are_finger_stretched(landmark[17],landmark[4*i+2],landmark[4*i+4])\n",
    "                else:\n",
    "                    #wrest\n",
    "                    figure_ = are_finger_stretched(landmark[0],landmark[4*i+2],landmark[4*i+4])\n",
    "                    \n",
    "                figure[i] = figure_\n",
    "            #print(figure, '\\n')\n",
    "            \n",
    "            gesture_solution = detect_gesture(figure)\n",
    "            cv2.putText(img, f\"{gesture_solution}\", (240, 35*(handsnumber+1)), cv2.FONT_HERSHEY_PLAIN, 2, (255, 255, 0), 5)\n",
    "\n",
    "            \n",
    "    #Shows Frames per Second\n",
    "        currentTime = time.time()\n",
    "        fps = 1/(currentTime-previousTime)\n",
    "        previousTime = currentTime        \n",
    "        cv2.putText(img, str(int(fps)), (10, 35), cv2.FONT_HERSHEY_PLAIN, 3, (255, 0, 255), 3) #Pos,Font,Scale,Color,Thick\n",
    "            \n",
    "        cv2.imshow(\"Hand Tracking\", img) #Name of Window and the Live-Image\n",
    "        \n",
    "    if cv2.waitKey(1) == ord('q') : \n",
    "        #quit with Q\n",
    "        break\n",
    "        \n",
    "cap.release()\n",
    "cv2.destroyAllWindows()"
   ]
  },
  {
   "cell_type": "code",
   "execution_count": null,
   "id": "e4554cf5",
   "metadata": {},
   "outputs": [],
   "source": []
  },
  {
   "cell_type": "code",
   "execution_count": null,
   "id": "86a8cc08",
   "metadata": {},
   "outputs": [],
   "source": []
  },
  {
   "cell_type": "code",
   "execution_count": null,
   "id": "29ef2e9c",
   "metadata": {},
   "outputs": [],
   "source": []
  },
  {
   "cell_type": "code",
   "execution_count": null,
   "id": "54656cd0",
   "metadata": {},
   "outputs": [],
   "source": []
  },
  {
   "cell_type": "code",
   "execution_count": null,
   "id": "21a76c1f",
   "metadata": {},
   "outputs": [],
   "source": []
  }
 ],
 "metadata": {
  "kernelspec": {
   "display_name": "Python 3 (ipykernel)",
   "language": "python",
   "name": "python3"
  },
  "language_info": {
   "codemirror_mode": {
    "name": "ipython",
    "version": 3
   },
   "file_extension": ".py",
   "mimetype": "text/x-python",
   "name": "python",
   "nbconvert_exporter": "python",
   "pygments_lexer": "ipython3",
   "version": "3.9.13"
  }
 },
 "nbformat": 4,
 "nbformat_minor": 5
}
